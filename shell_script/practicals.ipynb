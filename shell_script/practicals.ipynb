{
 "cells": [
  {
   "attachments": {},
   "cell_type": "markdown",
   "metadata": {},
   "source": [
    "## **Practical 1** # *220283107033*"
   ]
  },
  {
   "attachments": {},
   "cell_type": "markdown",
   "metadata": {},
   "source": [
    "*AIM: Study of Basic commands of Linux/UNIX*"
   ]
  },
  {
   "cell_type": "code",
   "execution_count": 4,
   "metadata": {
    "vscode": {
     "languageId": "shellscript"
    }
   },
   "outputs": [
    {
     "name": "stdout",
     "output_type": "stream",
     "text": [
      "10                    gform_scrap                request.html\n",
      "10]                   globalrequirements.txt     \u001b[0m\u001b[01;35mresized_image.webp\u001b[0m\n",
      "advanced_python.text  \u001b[01;34mjupyter-c-kernel\u001b[0m           \u001b[01;34msnap\u001b[0m\n",
      "\u001b[01;34mBE\u001b[0m                    \u001b[01;34mMusic\u001b[0m                      \u001b[01;34mTemplates\u001b[0m\n",
      "\u001b[01;34mclear\u001b[0m                 \u001b[01;34mnote8_backup\u001b[0m               Untitled1.ipynb\n",
      "compress_webp.py      \u001b[01;31mnote8_backup.tar.gz\u001b[0m        Untitled2.ipynb\n",
      "\u001b[01;34mDesktop\u001b[0m               \u001b[01;34mPictures\u001b[0m                   Untitled.ipynb\n",
      "\u001b[01;34mDocuments\u001b[0m             \u001b[01;34mPostman\u001b[0m                    \u001b[01;34mvictorconky\u001b[0m\n",
      "\u001b[01;34mDownloads\u001b[0m             \u001b[01;34mPublic\u001b[0m                     \u001b[01;34mVideos\u001b[0m\n",
      "\u001b[01;32mexecutable.sh\u001b[0m         \u001b[01;34mrealme_narzo30_pro_backup\u001b[0m\n",
      "/home/manav1011\n",
      "newfile.txt\n",
      "SAMPLE TEXT\n"
     ]
    },
    {
     "ename": "",
     "evalue": "1",
     "output_type": "error",
     "traceback": []
    }
   ],
   "source": [
    "ls; \n",
    "pwd;\n",
    "cd ..;\n",
    "cd ~;\n",
    "mkdir newfolder\n",
    "touch newfolder/newfile.txt\n",
    "ls newfolder\n",
    "echo \"SAMPLE TEXT\" >> newfolder/newfile.txt\n",
    "cat newfolder/newfile.txt\n",
    "chmod 777 newfolder/newfile.txt\n",
    "grep \"sample\" newfolder/newfile.txt"
   ]
  },
  {
   "attachments": {},
   "cell_type": "markdown",
   "metadata": {},
   "source": [
    "## **Practical 2 220283107033**"
   ]
  },
  {
   "attachments": {},
   "cell_type": "markdown",
   "metadata": {},
   "source": [
    "**AIM: Study of Advance commands and filters of Linux/UNIX.**"
   ]
  },
  {
   "cell_type": "code",
   "execution_count": 5,
   "metadata": {
    "vscode": {
     "languageId": "shellscript"
    }
   },
   "outputs": [
    {
     "name": "stdout",
     "output_type": "stream",
     "text": [
      "lo: flags=73<UP,LOOPBACK,RUNNING>  mtu 65536\n",
      "        inet 127.0.0.1  netmask 255.0.0.0\n",
      "        inet6 ::1  prefixlen 128  scopeid 0x10<host>\n",
      "        loop  txqueuelen 1000  (Local Loopback)\n",
      "        RX packets 2132  bytes 431907 (431.9 KB)\n",
      "        RX errors 0  dropped 0  overruns 0  frame 0\n",
      "        TX packets 2132  bytes 431907 (431.9 KB)\n",
      "        TX errors 0  dropped 0 overruns 0  carrier 0  collisions 0\n",
      "\n",
      "wlo1: flags=4163<UP,BROADCAST,RUNNING,MULTICAST>  mtu 1500\n",
      "        inet 192.168.29.18  netmask 255.255.255.0  broadcast 192.168.29.255\n",
      "        inet6 2405:201:2024:b016:22ca:e055:fcad:46f1  prefixlen 64  scopeid 0x0<global>\n",
      "        inet6 2405:201:2024:b016:d568:271:21c9:eeab  prefixlen 64  scopeid 0x0<global>\n",
      "        inet6 fe80::9258:4e83:a22e:9e31  prefixlen 64  scopeid 0x20<link>\n",
      "        ether b4:b5:b6:f1:d5:85  txqueuelen 1000  (Ethernet)\n",
      "        RX packets 41921  bytes 45722755 (45.7 MB)\n",
      "        RX errors 0  dropped 0  overruns 0  frame 0\n",
      "        TX packets 19492  bytes 5100777 (5.1 MB)\n",
      "        TX errors 0  dropped 0 overruns 0  carrier 0  collisions 0\n",
      "\n",
      "Active Internet connections (only servers)\n",
      "Proto Recv-Q Send-Q Local Address           Foreign Address         State      \n",
      "tcp        0      0 127.0.0.1:45745         0.0.0.0:*               LISTEN     \n",
      "tcp        0      0 127.0.0.1:33965         0.0.0.0:*               LISTEN     \n",
      "tcp        0      0 127.0.0.1:42373         0.0.0.0:*               LISTEN     \n",
      "tcp        0      0 127.0.0.1:631           0.0.0.0:*               LISTEN     \n",
      "tcp        0      0 127.0.0.1:8888          0.0.0.0:*               LISTEN     \n",
      "tcp        0      0 127.0.0.1:57393         0.0.0.0:*               LISTEN     \n",
      "tcp        0      0 127.0.0.53:53           0.0.0.0:*               LISTEN     \n",
      "tcp        0      0 127.0.0.1:44097         0.0.0.0:*               LISTEN     \n",
      "tcp        0      0 127.0.0.1:36193         0.0.0.0:*               LISTEN     \n",
      "tcp        0      0 127.0.0.1:43411         0.0.0.0:*               LISTEN     \n",
      "tcp6       0      0 ::1:631                 :::*                    LISTEN     \n",
      "tcp6       0      0 :::8828                 :::*                    LISTEN     \n",
      "tcp6       0      0 :::80                   :::*                    LISTEN     \n",
      "udp        0      0 127.0.0.53:53           0.0.0.0:*                          \n",
      "udp        0      0 0.0.0.0:631             0.0.0.0:*                          \n",
      "udp        0      0 0.0.0.0:36249           0.0.0.0:*                          \n",
      "udp        0      0 0.0.0.0:5353            0.0.0.0:*                          \n",
      "udp6       0      0 fe80::9258:4e83:a22:546 :::*                               \n",
      "udp6       0      0 :::52063                :::*                               \n",
      "udp6       0      0 :::44949                :::*                               \n",
      "udp6       0      0 :::5353                 :::*                               \n",
      "Server:\t\t127.0.0.53\n",
      "Address:\t127.0.0.53#53\n",
      "\n",
      "Name:\tallevents.in\n",
      "Address: 54.243.244.92\n",
      "\n",
      "newfolder/newfile.txt: ASCII text\n",
      "newfolder/newfile.txt\n",
      "\u001b[01;31m\u001b[Kglobalrequirements.txt\u001b[m\u001b[K\n"
     ]
    }
   ],
   "source": [
    "ifconfig; #Displays network interface configuration.\n",
    "netstat -tuln; #Displays network connections and routing tables.\n",
    "nslookup allevents.in; #Queries DNS (Domain Name System) for IP address information.\n",
    "file newfolder/newfile.txt; #Determines the file type.\n",
    "find newfolder -name '*.txt'; #Searches for files and directories.\n",
    "grep \"sample\" newfolder/newfile.txt;\n",
    "ls | grep *.txt"
   ]
  },
  {
   "attachments": {},
   "cell_type": "markdown",
   "metadata": {},
   "source": [
    "## **Practical 3 220283107033**"
   ]
  },
  {
   "attachments": {},
   "cell_type": "markdown",
   "metadata": {},
   "source": [
    "**AIM: Write a shell script to display your name**"
   ]
  },
  {
   "cell_type": "code",
   "execution_count": 6,
   "metadata": {
    "vscode": {
     "languageId": "shellscript"
    }
   },
   "outputs": [
    {
     "name": "stdout",
     "output_type": "stream",
     "text": [
      "The name is Manav Shah\n"
     ]
    }
   ],
   "source": [
    "name=\"Manav Shah\"\n",
    "echo \"The name is $name\""
   ]
  },
  {
   "attachments": {},
   "cell_type": "markdown",
   "metadata": {},
   "source": [
    "## **Practical 4 220283107033**"
   ]
  },
  {
   "attachments": {},
   "cell_type": "markdown",
   "metadata": {},
   "source": [
    "**AIM: Write a shell script to accept two numbers from user and display addition of it.**"
   ]
  },
  {
   "cell_type": "code",
   "execution_count": null,
   "metadata": {
    "vscode": {
     "languageId": "shellscript"
    }
   },
   "outputs": [],
   "source": [
    "read var1;\n",
    "read var2;\n",
    "echo \"Sum: $(expr $var1 + $var2)\";"
   ]
  },
  {
   "attachments": {},
   "cell_type": "markdown",
   "metadata": {},
   "source": [
    "10\n",
    "20\n",
    "Sum: 30"
   ]
  },
  {
   "attachments": {},
   "cell_type": "markdown",
   "metadata": {},
   "source": [
    "## **Practical 5 220283107033**"
   ]
  },
  {
   "attachments": {},
   "cell_type": "markdown",
   "metadata": {},
   "source": [
    "**AIM: Write a shell script to generate mark sheet of a student. Take 3 subjects, calculate\n",
    "and display total marks, percentage and Class obtained by the student.**"
   ]
  },
  {
   "cell_type": "code",
   "execution_count": 7,
   "metadata": {
    "vscode": {
     "languageId": "shellscript"
    }
   },
   "outputs": [
    {
     "name": "stdout",
     "output_type": "stream",
     "text": [
      "Total marks: 70\n",
      "Percentage: 77%\n",
      "Grade: B\n"
     ]
    }
   ],
   "source": [
    "mark1=15;\n",
    "mark2=25;\n",
    "mark3=30;\n",
    "\n",
    "sum=$(($mark1 + $mark2 + $mark3));\n",
    "echo \"Total marks: $sum\";\n",
    "\n",
    "per=$(( ($sum*100) / 90 ));\n",
    "echo \"Percentage: $per%\";\n",
    "\n",
    "if [[ $per -gt 80 ]] ;then\n",
    "    echo \"Grade: A\";\n",
    "elif [[ $per -gt 60 && $per -le 80 ]] ;then\n",
    "    echo \"Grade: B\";\n",
    "elif [[ $per -gt 35 && $per -le 60 ]] ;then\n",
    "    echo \"Grade: C\";\n",
    "else\n",
    "    echo \"Grade: Failed!\";\n",
    "fi"
   ]
  },
  {
   "attachments": {},
   "cell_type": "markdown",
   "metadata": {},
   "source": [
    "## **Practical 6 220283107033**"
   ]
  },
  {
   "attachments": {},
   "cell_type": "markdown",
   "metadata": {},
   "source": [
    "**AIM: Write a shell script to display multiplication table of given number.**"
   ]
  },
  {
   "cell_type": "code",
   "execution_count": 8,
   "metadata": {
    "vscode": {
     "languageId": "shellscript"
    }
   },
   "outputs": [
    {
     "name": "stdout",
     "output_type": "stream",
     "text": [
      "10 * 1 = 10\n",
      "10 * 2 = 20\n",
      "10 * 3 = 30\n",
      "10 * 4 = 40\n",
      "10 * 5 = 50\n",
      "10 * 6 = 60\n",
      "10 * 7 = 70\n",
      "10 * 8 = 80\n",
      "10 * 9 = 90\n",
      "10 * 10 = 100\n"
     ]
    }
   ],
   "source": [
    "n=10;\n",
    "\n",
    "for ((i=1;i<=10;i++)); do\n",
    "    echo \"$n * $i = $(($n*$i))\";\n",
    "done"
   ]
  },
  {
   "attachments": {},
   "cell_type": "markdown",
   "metadata": {},
   "source": [
    "## **Practical-7 220283107033**"
   ]
  },
  {
   "attachments": {},
   "cell_type": "markdown",
   "metadata": {},
   "source": [
    "**AIM: Write a shell script to illustrate switch case**"
   ]
  },
  {
   "cell_type": "code",
   "execution_count": 9,
   "metadata": {
    "vscode": {
     "languageId": "shellscript"
    }
   },
   "outputs": [
    {
     "name": "stdout",
     "output_type": "stream",
     "text": [
      "your favourite game is cricket\n"
     ]
    }
   ],
   "source": [
    "game=\"Cricket\"\n",
    "case \"$game\" in\n",
    "    cricket|Cricket)\n",
    "        echo \"your favourite game is cricket\"\n",
    "        ;;\n",
    "    volleyball|Volleyball)\n",
    "        echo \"You favourite game is volleyball\"\n",
    "        ;;\n",
    "    *)\n",
    "        echo \"You favourite game is not my favourite game 😶\"\n",
    "esac"
   ]
  },
  {
   "attachments": {},
   "cell_type": "markdown",
   "metadata": {},
   "source": [
    "## **Practical-8 220283107033**"
   ]
  },
  {
   "attachments": {},
   "cell_type": "markdown",
   "metadata": {},
   "source": [
    "**AIM: Write a shell script to find factorial of given number n.**"
   ]
  },
  {
   "cell_type": "code",
   "execution_count": 10,
   "metadata": {
    "vscode": {
     "languageId": "shellscript"
    }
   },
   "outputs": [
    {
     "name": "stdout",
     "output_type": "stream",
     "text": [
      "720\n"
     ]
    }
   ],
   "source": [
    "factorial(){\n",
    "    if [[ $1 -eq 0 || $1 -eq 1 ]]; then\n",
    "        echo 1;\n",
    "    else\n",
    "        echo $(($1 * $(factorial $(( $1 - 1 )))));\n",
    "    fi\n",
    "}\n",
    "factorial 6"
   ]
  },
  {
   "attachments": {},
   "cell_type": "markdown",
   "metadata": {},
   "source": [
    "## **Practical-9 220283107033**"
   ]
  },
  {
   "attachments": {},
   "cell_type": "markdown",
   "metadata": {},
   "source": [
    "**AIM: Write a shell script which will accept a number b and display first n prime numbers\n",
    "as output.**"
   ]
  },
  {
   "cell_type": "code",
   "execution_count": null,
   "metadata": {
    "vscode": {
     "languageId": "shellscript"
    }
   },
   "outputs": [],
   "source": [
    "#!/bin/bash\n",
    "\n",
    "echo \"Enter the value of n: \"\n",
    "read n\n",
    "count=0\n",
    "num=2\n",
    "\n",
    "while [ $count -lt $n ]; do\n",
    "    prime=1\n",
    "    for ((j=2; j<num; j++)); do\n",
    "        if ((num % j == 0)); then\n",
    "            prime=0\n",
    "            break\n",
    "        fi\n",
    "    done\n",
    "    if [ $prime -eq 1 ]; then\n",
    "        echo $num\n",
    "        count=$((count+1))\n",
    "    fi\n",
    "    num=$((num+1))\n",
    "done"
   ]
  },
  {
   "attachments": {},
   "cell_type": "markdown",
   "metadata": {},
   "source": [
    "Enter the value of n: \n",
    "10\n",
    "\n",
    "2\n",
    "3\n",
    "5\n",
    "7\n",
    "11\n",
    "13\n",
    "17\n",
    "19\n",
    "23\n",
    "29"
   ]
  },
  {
   "attachments": {},
   "cell_type": "markdown",
   "metadata": {},
   "source": [
    "## **Practical-10 220283107033**"
   ]
  },
  {
   "attachments": {},
   "cell_type": "markdown",
   "metadata": {},
   "source": [
    "**AIM: Write a shell script which will generate first n Fibonacci numbers like: 1, 1, 2, 3, 5,\n",
    "13,**"
   ]
  },
  {
   "cell_type": "code",
   "execution_count": 11,
   "metadata": {
    "vscode": {
     "languageId": "shellscript"
    }
   },
   "outputs": [
    {
     "name": "stdout",
     "output_type": "stream",
     "text": [
      "0\n",
      "1\n",
      "1\n",
      "2\n",
      "3\n",
      "5\n",
      "8\n",
      "13\n",
      "21\n",
      "34\n",
      "55\n"
     ]
    }
   ],
   "source": [
    "n=10\n",
    "fib(){\n",
    "    if [[ $1 -le 1 ]];then\n",
    "        echo $1\n",
    "    else\n",
    "        echo $(($(fib $(($1-1))) + $(fib $(($1-2)))))\n",
    "    fi\n",
    "}\n",
    "\n",
    "for ((i=0;i<=n;i++));do\n",
    "    fib $i\n",
    "done"
   ]
  },
  {
   "attachments": {},
   "cell_type": "markdown",
   "metadata": {},
   "source": [
    "## **Practical – 11 220283107033**"
   ]
  },
  {
   "attachments": {},
   "cell_type": "markdown",
   "metadata": {},
   "source": [
    "**AIM: Write a shell script to read n numbers as command arguments and sort them in\n",
    "descending order.**"
   ]
  },
  {
   "cell_type": "code",
   "execution_count": 12,
   "metadata": {
    "vscode": {
     "languageId": "shellscript"
    }
   },
   "outputs": [
    {
     "name": "stdout",
     "output_type": "stream",
     "text": [
      "Sorted elements: 8 6 5 4 3 2 1 -1 -2\n"
     ]
    }
   ],
   "source": [
    "#!/bin/bash\n",
    "\n",
    "# Bubble Sort function\n",
    "bubble_sort() {\n",
    "    local -n arr=\"$1\"\n",
    "    local n=${#arr[@]}\n",
    "    local swapped\n",
    "\n",
    "    for ((i = 0; i < n-1; i++)); do\n",
    "        swapped=false\n",
    "\n",
    "        for ((j = 0; j < n-i-1; j++)); do\n",
    "            if ((arr[j] < arr[j+1])); then\n",
    "                # Swap elements\n",
    "                local temp=${arr[j]}\n",
    "                arr[j]=${arr[j+1]}\n",
    "                arr[j+1]=$temp\n",
    "                swapped=true\n",
    "            fi\n",
    "        done\n",
    "\n",
    "        # If no elements were swapped in the inner loop, the array is already sorted\n",
    "        if [[ \"$swapped\" = false ]]; then\n",
    "            break\n",
    "        fi\n",
    "    done\n",
    "}\n",
    "\n",
    "# Example usage\n",
    "elements=(-1 -2 8 5 6 2 3 1 4)\n",
    "bubble_sort elements\n",
    "\n",
    "echo \"Sorted elements: ${elements[@]}\""
   ]
  },
  {
   "attachments": {},
   "cell_type": "markdown",
   "metadata": {},
   "source": [
    "## **Practical – 12 220283107033**"
   ]
  },
  {
   "attachments": {},
   "cell_type": "markdown",
   "metadata": {},
   "source": [
    "**AIM: Write a shell script to display all executable files, directories and zero sized files\n",
    "from current directory.**"
   ]
  },
  {
   "cell_type": "code",
   "execution_count": 13,
   "metadata": {
    "vscode": {
     "languageId": "shellscript"
    }
   },
   "outputs": [
    {
     "name": "stdout",
     "output_type": "stream",
     "text": [
      "Executable Files:\n",
      "./executable.sh\n",
      "Directories:\n",
      ".\n",
      "./.icons\n",
      "./.globalenv\n",
      "./Public\n",
      "./Templates\n",
      "./.dotnet\n",
      "./.vscode\n",
      "./newfolder\n",
      "./snap\n",
      "./.conky\n",
      "./.npm\n",
      "./Downloads\n",
      "./.pki\n",
      "./Pictures\n",
      "./Videos\n",
      "./.gnome\n",
      "./Music\n",
      "./BE\n",
      "./note8_backup\n",
      "./.fonts\n",
      "./.zoom\n",
      "./.var\n",
      "./.gnupg\n",
      "./Desktop\n",
      "./realme_narzo30_pro_backup\n",
      "./.ssh\n",
      "./.redhat\n",
      "./.ipython\n",
      "./.rest-client\n",
      "./.oh-my-zsh\n",
      "./Documents\n",
      "./.local\n",
      "./jupyter-c-kernel\n",
      "./clear\n",
      "./Postman\n",
      "./victorconky\n",
      "./.themes\n",
      "./.config\n",
      "./.android\n",
      "./.cache\n",
      "./.ipynb_checkpoints\n",
      "./.jupyter\n",
      "Zero-Sized Files:\n",
      "./executable.sh\n",
      "./10\n",
      "./.sudo_as_admin_successful\n",
      "./10]\n"
     ]
    }
   ],
   "source": [
    "echo \"Executable Files:\"\n",
    "find . -maxdepth 1 -type f -executable\n",
    "\n",
    "echo \"Directories:\"\n",
    "find . -maxdepth 1 -type d\n",
    "\n",
    "echo \"Zero-Sized Files:\"\n",
    "find . -maxdepth 1 -type f -size 0"
   ]
  },
  {
   "attachments": {},
   "cell_type": "markdown",
   "metadata": {},
   "source": [
    "## **Practical – 13 220283107033**"
   ]
  },
  {
   "attachments": {},
   "cell_type": "markdown",
   "metadata": {},
   "source": [
    "**AIM: Write a shell script to check entered string is palindrome or not**"
   ]
  },
  {
   "cell_type": "code",
   "execution_count": 14,
   "metadata": {
    "vscode": {
     "languageId": "shellscript"
    }
   },
   "outputs": [
    {
     "name": "stdout",
     "output_type": "stream",
     "text": [
      "The entered string is a palindrome.\n"
     ]
    }
   ],
   "source": [
    "string=\"tat\"\n",
    "for (( i=${#string}-1; i>=0; i-- )); do\n",
    "    reverse=\"$reverse${string:$i:1}\"\n",
    "done\n",
    "if [[ $string == $reverse ]]; then\n",
    "    echo \"The entered string is a palindrome.\"\n",
    "else\n",
    "    echo \"The entered string is not a palindrome.\"\n",
    "fi"
   ]
  },
  {
   "attachments": {},
   "cell_type": "markdown",
   "metadata": {},
   "source": [
    "## **Practical – 14 220283107033**"
   ]
  },
  {
   "attachments": {},
   "cell_type": "markdown",
   "metadata": {},
   "source": [
    "**AIM: Write a shell script to find the largest of three numbers**"
   ]
  },
  {
   "cell_type": "code",
   "execution_count": 15,
   "metadata": {
    "vscode": {
     "languageId": "shellscript"
    }
   },
   "outputs": [
    {
     "name": "stdout",
     "output_type": "stream",
     "text": [
      "30\n"
     ]
    }
   ],
   "source": [
    "first=10\n",
    "second=20\n",
    "third=30\n",
    "max=false\n",
    "(( first > second )) && (( first > third )) && max=$first || (( second > third )) && max=$second || max=$third\n",
    "echo $max"
   ]
  },
  {
   "attachments": {},
   "cell_type": "markdown",
   "metadata": {},
   "source": [
    "## **Practical – 15 220283107033**"
   ]
  },
  {
   "attachments": {},
   "cell_type": "markdown",
   "metadata": {},
   "source": [
    "**AIM: Write a shell script for converting a decimal to binary, octal and hex equivalent.**"
   ]
  },
  {
   "cell_type": "code",
   "execution_count": 17,
   "metadata": {
    "vscode": {
     "languageId": "shellscript"
    }
   },
   "outputs": [
    {
     "name": "stdout",
     "output_type": "stream",
     "text": [
      "The binary equivalent of 10 is 1010\n",
      "The octal equivalent of 10 is 12\n",
      "The hexadecimal equivalent of 10 is A\n"
     ]
    }
   ],
   "source": [
    "n=10\n",
    "\n",
    "dec_to_binary () {\n",
    "    local n=$1\n",
    "    local binary_num=''\n",
    "    while [ $n -gt 0 ]\n",
    "    do\n",
    "        remainder=$(( n % 2 ))\n",
    "        binary_num=\"$binary_num$remainder\"\n",
    "        n=$(( n / 2 ))\n",
    "    done\n",
    "    echo $binary_num | rev\n",
    "}\n",
    "\n",
    "dec_to_hexa () {\n",
    "    local n=$1\n",
    "    local hex_dict=( [10]='A' [11]='B' [12]='C' [13]='D' [14]='E' [15]='F' )\n",
    "    local hex_num=''\n",
    "    while [ $n -gt 0 ]\n",
    "    do\n",
    "        remainder=$(( n % 16 ))\n",
    "        if [[ ${hex_dict[$remainder]+_} ]]; then\n",
    "            hex_num=\"${hex_dict[$remainder]}$hex_num\"\n",
    "        else\n",
    "            hex_num=\"$remainder$hex_num\"\n",
    "        fi\n",
    "        n=$(( n / 16 ))\n",
    "    done\n",
    "    echo $hex_num\n",
    "}\n",
    "\n",
    "dec_to_octal () {\n",
    "    local n=$1\n",
    "    local oct_num=''\n",
    "    while [ $n -gt 0 ]\n",
    "    do\n",
    "        remainder=$(( n % 8 ))\n",
    "        oct_num=\"$oct_num$remainder\"\n",
    "        n=$(( n / 8 ))\n",
    "    done\n",
    "    echo $oct_num | rev\n",
    "}\n",
    "\n",
    "echo \"The binary equivalent of $n is $(dec_to_binary $n)\"\n",
    "echo \"The octal equivalent of $n is $(dec_to_octal $n)\"\n",
    "echo \"The hexadecimal equivalent of $n is $(dec_to_hexa $n)\""
   ]
  }
 ],
 "metadata": {
  "kernelspec": {
   "display_name": "Bash",
   "language": "bash",
   "name": "bash"
  },
  "language_info": {
   "codemirror_mode": "shell",
   "file_extension": ".sh",
   "mimetype": "text/x-sh",
   "name": "bash"
  }
 },
 "nbformat": 4,
 "nbformat_minor": 2
}
