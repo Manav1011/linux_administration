{
 "cells": [
  {
   "attachments": {},
   "cell_type": "markdown",
   "metadata": {},
   "source": [
    "## **General Practicals**"
   ]
  },
  {
   "attachments": {},
   "cell_type": "markdown",
   "metadata": {},
   "source": [
    "**1 - Explain linux commands in brief E_NO: 220283107033** "
   ]
  },
  {
   "attachments": {},
   "cell_type": "markdown",
   "metadata": {},
   "source": [
    "cat: The cat command is used to concatenate and display the contents of files. It can also be used to create new files. For example:"
   ]
  },
  {
   "cell_type": "code",
   "execution_count": 1,
   "metadata": {
    "vscode": {
     "languageId": "c"
    }
   },
   "outputs": [
    {
     "name": "stdout",
     "output_type": "stream",
     "text": [
      "SAMPLE TEXT\n"
     ]
    }
   ],
   "source": [
    "cat newfolder/newfile.txt"
   ]
  },
  {
   "attachments": {},
   "cell_type": "markdown",
   "metadata": {},
   "source": [
    "cd: The cd command is used to change the current working directory. For example:"
   ]
  },
  {
   "cell_type": "code",
   "execution_count": 2,
   "metadata": {
    "vscode": {
     "languageId": "c"
    }
   },
   "outputs": [],
   "source": [
    "cd newfolder\n",
    "cd ..\n",
    "cd ~  "
   ]
  },
  {
   "attachments": {},
   "cell_type": "markdown",
   "metadata": {},
   "source": [
    "cp: The cp command is used to copy files and directories. For example:"
   ]
  },
  {
   "cell_type": "code",
   "execution_count": null,
   "metadata": {
    "vscode": {
     "languageId": "c"
    }
   },
   "outputs": [],
   "source": [
    "cp newfolder/newfile.txt\n",
    "cp -r directory1 directory2    # Copy directory1 and its contents to directory2 recursively"
   ]
  },
  {
   "attachments": {},
   "cell_type": "markdown",
   "metadata": {},
   "source": [
    "chmod: The chmod command is used to change the permissions of files and"
   ]
  },
  {
   "cell_type": "code",
   "execution_count": null,
   "metadata": {
    "vscode": {
     "languageId": "c"
    }
   },
   "outputs": [],
   "source": [
    "chmod +x script.sh     # Add execute permissions to script.sh\n",
    "chmod 644 file.txt     # Set the permissions of file.txt to read and write for the owner and read for others"
   ]
  },
  {
   "attachments": {},
   "cell_type": "markdown",
   "metadata": {},
   "source": [
    "df: The df command displays information about disk space usage. For example:"
   ]
  },
  {
   "cell_type": "code",
   "execution_count": 6,
   "metadata": {
    "vscode": {
     "languageId": "c"
    }
   },
   "outputs": [
    {
     "name": "stdout",
     "output_type": "stream",
     "text": [
      "Filesystem      Size  Used Avail Use% Mounted on\n",
      "tmpfs           1.5G  2.1M  1.5G   1% /run\n",
      "/dev/nvme0n1p2  468G   65G  380G  15% /\n",
      "tmpfs           7.5G   72M  7.5G   1% /dev/shm\n",
      "tmpfs           5.0M  4.0K  5.0M   1% /run/lock\n",
      "/dev/nvme0n1p1  511M  6.1M  505M   2% /boot/efi\n",
      "tmpfs           1.5G  188K  1.5G   1% /run/user/1000\n"
     ]
    }
   ],
   "source": [
    "df -h "
   ]
  },
  {
   "attachments": {},
   "cell_type": "markdown",
   "metadata": {},
   "source": [
    "less: The less command allows you to view the contents of a file interactively. For example:"
   ]
  },
  {
   "cell_type": "code",
   "execution_count": null,
   "metadata": {
    "vscode": {
     "languageId": "c"
    }
   },
   "outputs": [],
   "source": [
    "less newfolder/newfile.txt   # Open file.txt for viewing"
   ]
  },
  {
   "attachments": {},
   "cell_type": "markdown",
   "metadata": {},
   "source": [
    "mkdir: The mkdir command is used to create directories. For example:"
   ]
  },
  {
   "cell_type": "code",
   "execution_count": null,
   "metadata": {
    "vscode": {
     "languageId": "c"
    }
   },
   "outputs": [],
   "source": [
    "mkdir new_directory    # Create a directory called new_directory"
   ]
  },
  {
   "attachments": {},
   "cell_type": "markdown",
   "metadata": {},
   "source": [
    "more: The more command is similar to less and is used to view file contents page by page. For example:"
   ]
  },
  {
   "cell_type": "code",
   "execution_count": null,
   "metadata": {
    "vscode": {
     "languageId": "c"
    }
   },
   "outputs": [],
   "source": [
    "more newfolder/newfile.txt    # Open file.txt for viewing\n"
   ]
  },
  {
   "attachments": {},
   "cell_type": "markdown",
   "metadata": {},
   "source": [
    "mv: The mv command is used to move or rename files and directories. For example:"
   ]
  },
  {
   "cell_type": "code",
   "execution_count": null,
   "metadata": {
    "vscode": {
     "languageId": "c"
    }
   },
   "outputs": [],
   "source": [
    "mv file.txt new_location/file.txt    # Move file.txt to a new_location\n",
    "mv oldfile.txt newfile.txt    # Rename oldfile.txt to newfile.txt"
   ]
  },
  {
   "attachments": {},
   "cell_type": "markdown",
   "metadata": {},
   "source": [
    "pwd: The pwd command prints the current working directory. For example:"
   ]
  },
  {
   "cell_type": "code",
   "execution_count": 2,
   "metadata": {
    "vscode": {
     "languageId": "c"
    }
   },
   "outputs": [
    {
     "name": "stdout",
     "output_type": "stream",
     "text": [
      "/home/manav1011\n"
     ]
    }
   ],
   "source": [
    "pwd"
   ]
  },
  {
   "attachments": {},
   "cell_type": "markdown",
   "metadata": {},
   "source": [
    "rmdir: The rmdir command is used to remove empty directories. For example:"
   ]
  },
  {
   "cell_type": "code",
   "execution_count": null,
   "metadata": {
    "vscode": {
     "languageId": "c"
    }
   },
   "outputs": [],
   "source": [
    "rmdir directory "
   ]
  },
  {
   "attachments": {},
   "cell_type": "markdown",
   "metadata": {},
   "source": [
    "rm: The rm command is used to remove files and directories. For example:"
   ]
  },
  {
   "cell_type": "code",
   "execution_count": null,
   "metadata": {
    "vscode": {
     "languageId": "c"
    }
   },
   "outputs": [],
   "source": [
    "rm file.txt    # Remove file.txt\n",
    "rm -rf directory    # Remove directory and its contents recursively"
   ]
  },
  {
   "attachments": {},
   "cell_type": "markdown",
   "metadata": {},
   "source": [
    "man: The man command is used to display the manual pages for other commands"
   ]
  },
  {
   "cell_type": "code",
   "execution_count": null,
   "metadata": {
    "vscode": {
     "languageId": "c"
    }
   },
   "outputs": [],
   "source": [
    "man grep    # Display the manual for the ls command"
   ]
  },
  {
   "attachments": {},
   "cell_type": "markdown",
   "metadata": {},
   "source": [
    "uname: The uname command prints system information. For example:"
   ]
  },
  {
   "cell_type": "code",
   "execution_count": null,
   "metadata": {
    "vscode": {
     "languageId": "c"
    }
   },
   "outputs": [],
   "source": [
    "uname -a    # Print all system information"
   ]
  },
  {
   "attachments": {},
   "cell_type": "markdown",
   "metadata": {},
   "source": [
    "who: The who command shows who is currently logged in. For example:"
   ]
  },
  {
   "cell_type": "code",
   "execution_count": 8,
   "metadata": {
    "vscode": {
     "languageId": "c"
    }
   },
   "outputs": [
    {
     "name": "stdout",
     "output_type": "stream",
     "text": [
      "manav1011 tty2         2023-06-16 13:02 (tty2)\n"
     ]
    }
   ],
   "source": [
    "who    # Show the users currently logged in"
   ]
  },
  {
   "attachments": {},
   "cell_type": "markdown",
   "metadata": {},
   "source": [
    "ps: The ps command displays information about running processes. For example:"
   ]
  },
  {
   "cell_type": "code",
   "execution_count": 9,
   "metadata": {
    "vscode": {
     "languageId": "c"
    }
   },
   "outputs": [
    {
     "name": "stdout",
     "output_type": "stream",
     "text": [
      "    PID TTY          TIME CMD\n",
      "  42931 pts/3    00:00:00 bash\n",
      "  43374 pts/3    00:00:00 ps\n"
     ]
    }
   ],
   "source": [
    "ps"
   ]
  },
  {
   "attachments": {},
   "cell_type": "markdown",
   "metadata": {},
   "source": [
    "vi: The vi command is a text editor for creating and modifying files. For example:"
   ]
  },
  {
   "cell_type": "code",
   "execution_count": null,
   "metadata": {
    "vscode": {
     "languageId": "c"
    }
   },
   "outputs": [],
   "source": [
    "vi file.txt    # Open file.txt for editing"
   ]
  },
  {
   "attachments": {},
   "cell_type": "markdown",
   "metadata": {},
   "source": [
    "cal: The cal command displays a calendar. For example:"
   ]
  },
  {
   "cell_type": "code",
   "execution_count": 12,
   "metadata": {
    "vscode": {
     "languageId": "c"
    }
   },
   "outputs": [
    {
     "name": "stdout",
     "output_type": "stream",
     "text": [
      "     June 2023        \n",
      "Su Mo Tu We Th Fr Sa  \n",
      "             1  2  3  \n",
      " 4  5  6  7  8  9 10  \n",
      "11 12 13 14 15 16 17  \n",
      "18 19 20 21 22 23 24  \n",
      "25 26 27 28 29 30     \n",
      "                      \n"
     ]
    }
   ],
   "source": [
    "cal    # Display the current month's calendar"
   ]
  },
  {
   "attachments": {},
   "cell_type": "markdown",
   "metadata": {},
   "source": [
    "date: The date command displays the current date and time. For example:"
   ]
  },
  {
   "cell_type": "code",
   "execution_count": 13,
   "metadata": {
    "vscode": {
     "languageId": "c"
    }
   },
   "outputs": [
    {
     "name": "stdout",
     "output_type": "stream",
     "text": [
      "Friday 16 June 2023 07:47:50 PM IST\n"
     ]
    }
   ],
   "source": [
    "date"
   ]
  },
  {
   "attachments": {},
   "cell_type": "markdown",
   "metadata": {},
   "source": [
    "echo: The echo command is used to print text or variables to the terminal"
   ]
  },
  {
   "cell_type": "code",
   "execution_count": 14,
   "metadata": {
    "vscode": {
     "languageId": "c"
    }
   },
   "outputs": [
    {
     "name": "stdout",
     "output_type": "stream",
     "text": [
      "manav shah\n"
     ]
    }
   ],
   "source": [
    "echo \"manav shah\""
   ]
  },
  {
   "attachments": {},
   "cell_type": "markdown",
   "metadata": {},
   "source": [
    "bc: The bc command is a calculator with arbitrary precision. For example:"
   ]
  },
  {
   "cell_type": "code",
   "execution_count": 16,
   "metadata": {
    "vscode": {
     "languageId": "c"
    }
   },
   "outputs": [
    {
     "name": "stdout",
     "output_type": "stream",
     "text": [
      "4.32232323223\n"
     ]
    }
   ],
   "source": [
    "echo \"2 + 2.32232323223\" | bc "
   ]
  },
  {
   "attachments": {},
   "cell_type": "markdown",
   "metadata": {},
   "source": [
    "grep: The grep command is used for pattern matching and searching for specific text in files."
   ]
  },
  {
   "cell_type": "code",
   "execution_count": 18,
   "metadata": {
    "vscode": {
     "languageId": "c"
    }
   },
   "outputs": [
    {
     "ename": "",
     "evalue": "1",
     "output_type": "error",
     "traceback": []
    }
   ],
   "source": [
    "grep \"Sample\" newfolder/newfile.txt"
   ]
  },
  {
   "attachments": {},
   "cell_type": "markdown",
   "metadata": {},
   "source": [
    "### **2 - Study of unix shell and environment variables EN_NO: 220283107033**"
   ]
  },
  {
   "attachments": {},
   "cell_type": "markdown",
   "metadata": {},
   "source": [
    "Environment variables are variables that hold information about the environment in which the shell is running. They are dynamic and can be accessed and modified by the user or the running programs. Environment variables are used to store configuration settings, system paths, and other important information."
   ]
  },
  {
   "attachments": {},
   "cell_type": "markdown",
   "metadata": {},
   "source": [
    "Here are some of the default environment variables"
   ]
  },
  {
   "cell_type": "code",
   "execution_count": 19,
   "metadata": {
    "vscode": {
     "languageId": "c"
    }
   },
   "outputs": [
    {
     "name": "stdout",
     "output_type": "stream",
     "text": [
      "/home/manav1011/.globalenv/bin:/home/manav1011/.globalenv/bin:/usr/local/sbin:/usr/local/bin:/usr/sbin:/usr/bin:/sbin:/bin:/usr/games:/usr/local/games:/snap/bin:/snap/bin\n",
      "/home/manav1011\n",
      "manav1011\n"
     ]
    }
   ],
   "source": [
    "echo $PATH\n",
    "echo $HOME\n",
    "echo $USER"
   ]
  },
  {
   "cell_type": "code",
   "execution_count": 20,
   "metadata": {
    "vscode": {
     "languageId": "c"
    }
   },
   "outputs": [
    {
     "name": "stdout",
     "output_type": "stream",
     "text": [
      "MANAV\n"
     ]
    }
   ],
   "source": [
    "export NAME=\"MANAV\"\n",
    "echo $NAME"
   ]
  },
  {
   "attachments": {},
   "cell_type": "markdown",
   "metadata": {},
   "source": [
    "### ***3 - Write an awk program using function, which convert each word in a given text into capital. EN_NO - 220283107033***"
   ]
  },
  {
   "cell_type": "code",
   "execution_count": null,
   "metadata": {
    "vscode": {
     "languageId": "c"
    }
   },
   "outputs": [],
   "source": [
    "function to_uppercase(str) {\n",
    "    return toupper(str)\n",
    "}\n",
    "\n",
    "{\n",
    "    for (i = 1; i <= NF; i++) {\n",
    "        $i = to_uppercase($i)\n",
    "    }\n",
    "    print\n",
    "}"
   ]
  },
  {
   "cell_type": "code",
   "execution_count": 23,
   "metadata": {
    "vscode": {
     "languageId": "c"
    }
   },
   "outputs": [
    {
     "name": "stdout",
     "output_type": "stream",
     "text": [
      "HELLO WORLD! WELCOME TO AWK PROGRAMMING.\n"
     ]
    }
   ],
   "source": [
    "text=\"hello world! welcome to awk programming.\"\n",
    "echo \"$text\" | awk -f /home/manav1011/BE/sem-4/os/practicals/shell_script/upper.awk"
   ]
  },
  {
   "attachments": {},
   "cell_type": "markdown",
   "metadata": {},
   "source": [
    "### ***4 - Write a program for process creation using c. (Use of gcc compiler) EN_NO: 220283107033***"
   ]
  },
  {
   "cell_type": "code",
   "execution_count": 1,
   "metadata": {
    "vscode": {
     "languageId": "c"
    }
   },
   "outputs": [
    {
     "name": "stdout",
     "output_type": "stream",
     "text": [
      "Parent process. Child's Process ID: 44780\n",
      "Parent's Process ID: 44777\n",
      "Child process created! Process ID: 44780\n",
      "Parent's Process ID: 1546\n"
     ]
    }
   ],
   "source": [
    "#include <stdio.h>\n",
    "#include <stdlib.h>\n",
    "#include <unistd.h>\n",
    "#include <sys/types.h>\n",
    "\n",
    "int main() {\n",
    "    pid_t pid;\n",
    "\n",
    "    // Fork a child process\n",
    "    pid = fork();\n",
    "\n",
    "    if (pid < 0) {\n",
    "        // Error occurred while forking\n",
    "        fprintf(stderr, \"Failed to create a child process.\\n\");\n",
    "        return 1;\n",
    "    } else if (pid == 0) {\n",
    "        // Child process\n",
    "        printf(\"Child process created! Process ID: %d\\n\", getpid());\n",
    "        printf(\"Parent's Process ID: %d\\n\", getppid());\n",
    "        exit(0); // Terminate the child process\n",
    "    } else {\n",
    "        // Parent process\n",
    "        printf(\"Parent process. Child's Process ID: %d\\n\", pid);\n",
    "        printf(\"Parent's Process ID: %d\\n\", getpid());\n",
    "    }\n",
    "\n",
    "    return 0;\n",
    "}"
   ]
  }
 ],
 "metadata": {
  "kernelspec": {
   "display_name": "C",
   "language": "c",
   "name": "c"
  },
  "language_info": {
   "file_extension": ".c",
   "mimetype": "text/x-csrc",
   "name": "text/x-csrc"
  },
  "orig_nbformat": 4
 },
 "nbformat": 4,
 "nbformat_minor": 2
}
